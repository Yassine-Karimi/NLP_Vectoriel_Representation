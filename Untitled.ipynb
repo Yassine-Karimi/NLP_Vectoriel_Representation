{
 "cells": [
  {
   "cell_type": "markdown",
   "id": "815a3e53",
   "metadata": {},
   "source": [
    "# Atelier1 : Représentation vectorielle de Texte"
   ]
  },
  {
   "cell_type": "markdown",
   "id": "09569b25",
   "metadata": {},
   "source": [
    "### Partie 1 : Pré-traitement de texte"
   ]
  },
  {
   "cell_type": "markdown",
   "id": "ddf796c8",
   "metadata": {},
   "source": [
    "1. Créer un corpus qui contient les textes ."
   ]
  },
  {
   "cell_type": "code",
   "execution_count": 4,
   "id": "0c7944b0",
   "metadata": {},
   "outputs": [],
   "source": [
    "corpus = [\n",
    "    \"Le chat dort sur le tapis.\",\n",
    "    \"Les Oiseaux Chantent Le Matin.\",\n",
    "    \"Le chien court dans le jardin.\",\n",
    "    \"Mangeons des pommes délicieuses.\",\n",
    "    \"Je mange une orange fraîche.\"\n",
    "]\n"
   ]
  },
  {
   "cell_type": "markdown",
   "id": "952fa0b6",
   "metadata": {},
   "source": [
    "2. Convertir le corpus en type DataFrame."
   ]
  },
  {
   "cell_type": "code",
   "execution_count": 5,
   "id": "14ec9722",
   "metadata": {},
   "outputs": [
    {
     "name": "stdout",
     "output_type": "stream",
     "text": [
      "                               texte\n",
      "ID                                  \n",
      "0         Le chat dort sur le tapis.\n",
      "1     Les Oiseaux Chantent Le Matin.\n",
      "2     Le chien court dans le jardin.\n",
      "3   Mangeons des pommes délicieuses.\n",
      "4       Je mange une orange fraîche.\n"
     ]
    }
   ],
   "source": [
    "import pandas as pd\n",
    "\n",
    "corpus = [\n",
    "    \"Le chat dort sur le tapis.\",\n",
    "    \"Les Oiseaux Chantent Le Matin.\",\n",
    "    \"Le chien court dans le jardin.\",\n",
    "    \"Mangeons des pommes délicieuses.\",\n",
    "    \"Je mange une orange fraîche.\"\n",
    "]\n",
    "\n",
    "# Créez un DataFrame à partir du corpus\n",
    "df = pd.DataFrame({'texte': corpus})\n",
    "\n",
    "# Vous pouvez également ajouter un index si nécessaire\n",
    "df.index.name = 'ID'\n",
    "\n",
    "# Affichez le DataFrame\n",
    "print(df)\n"
   ]
  },
  {
   "cell_type": "markdown",
   "id": "13b8463c",
   "metadata": {},
   "source": [
    "3. Quelles sont les différentes approches pour prétraiter un corpus de textes? Décrire les.\n",
    "C’est quoi le rôle de chaque approche ?"
   ]
  },
  {
   "cell_type": "markdown",
   "id": "f763bec4",
   "metadata": {},
   "source": [
    "## Tokenization (Tokenisation) :\n",
    "\n",
    "* Rôle :\n",
    "La tokenization consiste à diviser un texte en unités discrètes, généralement en mots ou en tokens. Cela permet de segmenter le texte en éléments distincts pour une analyse plus approfondie. Les tokens sont essentiels pour effectuer des opérations telles que la comptage de mots, l'analyse grammaticale, et la recherche d'entités nommées.\n",
    "\n",
    "## Suppression de la ponctuation :\n",
    "\n",
    "* Rôle : La suppression de la ponctuation implique de retirer les caractères de ponctuation du texte, tels que les points, les virgules, les guillemets, etc. Cela permet de nettoyer le texte des éléments non alphabétiques qui n'apportent généralement pas d'informations significatives pour de nombreuses tâches d'analyse de texte.\n",
    "\n",
    "## Mise en minuscules :\n",
    "\n",
    "* Rôle :\n",
    "La mise en minuscules consiste à convertir l'ensemble du texte en lettres minuscules. Cela permet de normaliser le texte et d'éviter les variations dues à la casse. Par exemple, \"Chat\" et \"chat\" seront considérés comme identiques après mise en minuscules.\n",
    "\n",
    "## Suppression des stopwords :\n",
    "\n",
    "* Rôle : \n",
    "Les stopwords sont des mots courants tels que \"le\", \"et\", \"de\" qui n'apportent généralement pas d'informations significatives dans l'analyse de texte. Les supprimer du texte permet de réduire le bruit et de se concentrer sur les mots clés importants.\n",
    "\n",
    "## Lemmatization (Lemmatisation) :\n",
    "\n",
    "* Rôle :\n",
    "La lemmatisation vise à réduire les mots à leur forme de base, appelée lemme. Par exemple, \"mangeons\" serait réduit à \"manger\". Cela aide à regrouper différentes formes d'un mot pour une analyse plus cohérente.\n",
    "Stemming (Racinisation) :\n",
    "\n",
    "## Stemming (Racinisation) :\n",
    "\n",
    "* Rôle :\n",
    "Le stemming réduit les mots à leur racine ou à leur forme tronquée, même si la forme résultante n'est pas toujours un mot réel. Par exemple, \"mangeons\" pourrait être réduit à \"mang\". Cette technique est plus agressive que la lemmatisation mais permet de regrouper des mots similaires."
   ]
  },
  {
   "cell_type": "markdown",
   "id": "481055aa",
   "metadata": {},
   "source": [
    "4. Décrire le code suivant :"
   ]
  },
  {
   "cell_type": "code",
   "execution_count": 6,
   "id": "2d1592e2",
   "metadata": {},
   "outputs": [
    {
     "name": "stdout",
     "output_type": "stream",
     "text": [
      "!\"#$%&'()*+,-./:;<=>?@[\\]^_`{|}~\n"
     ]
    }
   ],
   "source": [
    "import string\n",
    "print(string.punctuation)\n",
    "\n",
    "def code(texte):\n",
    "    text_s_pon = [c for c in texte if c not in string.punctuation]\n",
    "    return text_s_pon\n"
   ]
  },
  {
   "cell_type": "markdown",
   "id": "7702b870",
   "metadata": {},
   "source": [
    "Ce code importe la bibliothèque string et imprime la ponctuation.\n",
    "Ensuite, il définit une fonction code(texte) qui prend un texte en entrée et renvoie le même\n",
    "texte, mais avec la ponctuation supprimée. \n",
    "La liste de caractères de ponctuation est obtenue à partir de string.punctuation. \n",
    "Par exemple, si vous appelez code(\"Le chat dort.\"), cela renverra \"Le chat dort\" en supprimant le point."
   ]
  }
 ],
 "metadata": {
  "kernelspec": {
   "display_name": "Python 3 (ipykernel)",
   "language": "python",
   "name": "python3"
  },
  "language_info": {
   "codemirror_mode": {
    "name": "ipython",
    "version": 3
   },
   "file_extension": ".py",
   "mimetype": "text/x-python",
   "name": "python",
   "nbconvert_exporter": "python",
   "pygments_lexer": "ipython3",
   "version": "3.11.5"
  }
 },
 "nbformat": 4,
 "nbformat_minor": 5
}
